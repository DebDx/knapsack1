{
 "cells": [
  {
   "cell_type": "code",
   "execution_count": 1,
   "metadata": {},
   "outputs": [],
   "source": [
    "#Name: Deborshi Deb\n",
    "#Reg No: 201800086"
   ]
  },
  {
   "cell_type": "code",
   "execution_count": 2,
   "metadata": {},
   "outputs": [
    {
     "data": {
      "text/plain": [
       "'Greedy Knapsack \\n{\\n   for i=1 to n                                  //step1     \\n   {\\n      compute pi/wi;                             //step2  \\n    \\n  // form 1 to n we have compute above code      ---- O(n) (tim taken , since it runs n times)\\n    }   \\n    \\n    sort objects in non- increasing order p/w;     //step3\\n    \\n // if i have n objects and i have to sort them, then \\n best sorting algorithm (compasion base sorting algo) is merge sort.    --  O(nlogn) (time take for merge sort) \\n   \\n     for i=1 to n                                    //step4     \\n    {\\n    if(m>0 && wi<=m)                             //step5\\n          m = m - wi;                               //step6\\n          P = P + pi;                               //step7\\n      else                                          //step8\\n        break;                                      //step9\\n   }\\n   // for above code we have iterate from 1 to on sorted list           --  O(n) (time taken)\\n   \\n  if(m>0)                                           //step10 \\n  {\\n     P=P+ pi*(m/wi);                                //step11\\n   // this step will take constantant time so                           --  O(1) (time taken)\\n   }\\n   \\n   \\n   SO we total time taken will be = O(n) + O(nlogn) + O(n) +O(1)\\n   so time complexity will be  = O(nlogn)\\n   \\n\\n}'"
      ]
     },
     "execution_count": 2,
     "metadata": {},
     "output_type": "execute_result"
    }
   ],
   "source": [
    "'''Greedy Knapsack \n",
    "{\n",
    "   for i=1 to n                                  //step1     \n",
    "   {\n",
    "      compute pi/wi;                             //step2  \n",
    "    \n",
    "  // form 1 to n we have compute above code      ---- O(n) (tim taken , since it runs n times)\n",
    "    }   \n",
    "    \n",
    "    sort objects in non- increasing order p/w;     //step3\n",
    "    \n",
    " // if i have n objects and i have to sort them, then \n",
    " best sorting algorithm (compasion base sorting algo) is merge sort.    --  O(nlogn) (time take for merge sort) \n",
    "   \n",
    "     for i=1 to n                                    //step4     \n",
    "    {\n",
    "    if(m>0 && wi<=m)                             //step5\n",
    "          m = m - wi;                               //step6\n",
    "          P = P + pi;                               //step7\n",
    "      else                                          //step8\n",
    "        break;                                      //step9\n",
    "   }\n",
    "   // for above code we have iterate from 1 to on sorted list           --  O(n) (time taken)\n",
    "   \n",
    "  if(m>0)                                           //step10 \n",
    "  {\n",
    "     P=P+ pi*(m/wi);                                //step11\n",
    "   // this step will take constantant time so                           --  O(1) (time taken)\n",
    "   }\n",
    "   \n",
    "   \n",
    "   SO we total time taken will be = O(n) + O(nlogn) + O(n) +O(1)\n",
    "   so time complexity will be  = O(nlogn)\n",
    "   \n",
    "\n",
    "}'''"
   ]
  },
  {
   "cell_type": "code",
   "execution_count": 3,
   "metadata": {},
   "outputs": [],
   "source": [
    "t=[]                #t for objects, w for weights, p for profits\n",
    "w=[]\n",
    "p=[]\n"
   ]
  },
  {
   "cell_type": "code",
   "execution_count": 4,
   "metadata": {},
   "outputs": [
    {
     "name": "stdout",
     "output_type": "stream",
     "text": [
      "Enter the number of items5\n"
     ]
    }
   ],
   "source": [
    "k=int(input(\"Enter the number of items\")) #k for number of items"
   ]
  },
  {
   "cell_type": "code",
   "execution_count": 5,
   "metadata": {},
   "outputs": [],
   "source": [
    "o=0\n",
    "for i in range(k):\n",
    "    o=o+1\n",
    "    t.append(o)"
   ]
  },
  {
   "cell_type": "code",
   "execution_count": 6,
   "metadata": {},
   "outputs": [
    {
     "name": "stdout",
     "output_type": "stream",
     "text": [
      "[1, 2, 3, 4, 5]\n"
     ]
    }
   ],
   "source": [
    "print(t)"
   ]
  },
  {
   "cell_type": "code",
   "execution_count": 7,
   "metadata": {},
   "outputs": [
    {
     "name": "stdout",
     "output_type": "stream",
     "text": [
      "Enter the maximum weight of sack12\n"
     ]
    }
   ],
   "source": [
    "y=int(input(\"Enter the maximum weight of sack\")) #y for maximum weight of sack"
   ]
  },
  {
   "cell_type": "code",
   "execution_count": 8,
   "metadata": {},
   "outputs": [
    {
     "name": "stdout",
     "output_type": "stream",
     "text": [
      "Enter the weight2\n",
      "Enter the weight5\n",
      "Enter the weight3\n",
      "Enter the weight4\n",
      "Enter the weight6\n"
     ]
    }
   ],
   "source": [
    "for i in range(k):\n",
    "    w.append(int(input(\"Enter the weight\")))"
   ]
  },
  {
   "cell_type": "markdown",
   "metadata": {},
   "source": []
  },
  {
   "cell_type": "code",
   "execution_count": 9,
   "metadata": {},
   "outputs": [
    {
     "name": "stdout",
     "output_type": "stream",
     "text": [
      "Enter the profits15\n",
      "Enter the profits12\n",
      "Enter the profits9\n",
      "Enter the profits16\n",
      "Enter the profits17\n"
     ]
    }
   ],
   "source": [
    "for i in range(k):  \n",
    "    p.append(int(input(\"Enter the profits\")))"
   ]
  },
  {
   "cell_type": "code",
   "execution_count": 10,
   "metadata": {},
   "outputs": [],
   "source": [
    "r=[]                 #r for profit by weight ratio\n",
    "for i in range(k):\n",
    "    r.append(p[i]/w[i])"
   ]
  },
  {
   "cell_type": "code",
   "execution_count": 13,
   "metadata": {},
   "outputs": [
    {
     "name": "stdout",
     "output_type": "stream",
     "text": [
      "[7.5, 4.0, 3.0, 2.8333333333333335, 2.4]\n"
     ]
    }
   ],
   "source": [
    "print(r)"
   ]
  },
  {
   "cell_type": "code",
   "execution_count": 14,
   "metadata": {},
   "outputs": [],
   "source": [
    "for i in range(k-1):           #sort in decreasing order all according to the ratio\n",
    "    for j in range(k-i-1):\n",
    "        if(r[j]<r[j+1]):\n",
    "            t[j],t[j+1]=t[j+1],t[j]\n",
    "            r[j],r[j+1]=r[j+1],r[j]\n",
    "            w[j],w[j+1]=w[j+1],w[j]\n",
    "            p[j],p[j+1]=p[j+1],p[j]\n",
    "            "
   ]
  },
  {
   "cell_type": "code",
   "execution_count": 15,
   "metadata": {},
   "outputs": [
    {
     "name": "stdout",
     "output_type": "stream",
     "text": [
      "[1, 4, 3, 5, 2]\n"
     ]
    }
   ],
   "source": [
    "print(t)"
   ]
  },
  {
   "cell_type": "code",
   "execution_count": 16,
   "metadata": {},
   "outputs": [
    {
     "name": "stdout",
     "output_type": "stream",
     "text": [
      "[15, 16, 9, 17, 12]\n"
     ]
    }
   ],
   "source": [
    "print(p)"
   ]
  },
  {
   "cell_type": "code",
   "execution_count": 17,
   "metadata": {},
   "outputs": [
    {
     "name": "stdout",
     "output_type": "stream",
     "text": [
      "[2, 4, 3, 6, 5]\n"
     ]
    }
   ],
   "source": [
    "print(w)"
   ]
  },
  {
   "cell_type": "code",
   "execution_count": 18,
   "metadata": {},
   "outputs": [
    {
     "name": "stdout",
     "output_type": "stream",
     "text": [
      "Item 1 is chosen completely\n",
      "Item 2 is chosen completely\n",
      "Item 3 is chosen completely\n"
     ]
    }
   ],
   "source": [
    "pr=0\n",
    "for i in range(k):\n",
    "    if(y>0 and w[i]<=y):\n",
    "        y=y-w[i]\n",
    "        pr=pr+p[i]\n",
    "        print(\"Item {} is chosen completely\".format(i+1))\n",
    "    else:\n",
    "        b=i\n",
    "        break\n",
    "    "
   ]
  },
  {
   "cell_type": "code",
   "execution_count": 19,
   "metadata": {},
   "outputs": [
    {
     "name": "stdout",
     "output_type": "stream",
     "text": [
      "Item 4 is chosen fractionally\n"
     ]
    }
   ],
   "source": [
    "if(y>0):\n",
    "    pr=pr+p[b]*(y/w[b])\n",
    "    print(\"Item {} is chosen fractionally\".format(b+1))"
   ]
  },
  {
   "cell_type": "code",
   "execution_count": 20,
   "metadata": {},
   "outputs": [
    {
     "name": "stdout",
     "output_type": "stream",
     "text": [
      "48.5\n"
     ]
    }
   ],
   "source": [
    "print(pr)"
   ]
  },
  {
   "cell_type": "code",
   "execution_count": 21,
   "metadata": {},
   "outputs": [
    {
     "data": {
      "text/plain": [
       "'\\no|1 |2|3 |4|5\\np|15|12|9|16|17\\nw|2|5|3|4|6\\n\\nmax weight=12\\n\\nthis is the sample example used for the program which results to 48.5\\n\\n'"
      ]
     },
     "execution_count": 21,
     "metadata": {},
     "output_type": "execute_result"
    }
   ],
   "source": [
    "'''\n",
    "o|1 |2|3 |4|5\n",
    "p|15|12|9|16|17\n",
    "w|2|5|3|4|6\n",
    "\n",
    "max weight=12\n",
    "\n",
    "this is the sample example used for the program which results to 48.5\n",
    "\n",
    "'''"
   ]
  },
  {
   "cell_type": "code",
   "execution_count": null,
   "metadata": {},
   "outputs": [],
   "source": []
  }
 ],
 "metadata": {
  "kernelspec": {
   "display_name": "Python 3",
   "language": "python",
   "name": "python3"
  },
  "language_info": {
   "codemirror_mode": {
    "name": "ipython",
    "version": 3
   },
   "file_extension": ".py",
   "mimetype": "text/x-python",
   "name": "python",
   "nbconvert_exporter": "python",
   "pygments_lexer": "ipython3",
   "version": "3.7.4"
  }
 },
 "nbformat": 4,
 "nbformat_minor": 2
}
